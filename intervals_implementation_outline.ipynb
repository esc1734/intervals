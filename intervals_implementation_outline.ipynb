{
 "cells": [
  {
   "cell_type": "code",
   "execution_count": 55,
   "metadata": {},
   "outputs": [],
   "source": [
    "import pandas as pd\n",
    "import numpy as np\n",
    "import matplotlib.pyplot as plt\n",
    "import scipy.stats "
   ]
  },
  {
   "cell_type": "code",
   "execution_count": 56,
   "metadata": {},
   "outputs": [
    {
     "name": "stdout",
     "output_type": "stream",
     "text": [
      "Index(['Date', 'FireCount', 'WindSpeed', 'Temperature', 'WindChill',\n",
      "       'Sunshine', 'Visibility', 'Longitude', 'Latitude'],\n",
      "      dtype='object')\n",
      "2019-07-01\n",
      "2011-01-01\n",
      "         Date  FireCount  WindSpeed  Temperature  WindChill  Sunshine  \\\n",
      "0  2011-01-01          0       23.5         5.35   1.118181  8.993333   \n",
      "1  2011-01-01          1       23.5         5.35   1.118181  8.993333   \n",
      "2  2011-01-01          0       23.5         5.35   1.118181  8.993333   \n",
      "3  2011-01-01          0       23.5         5.35   1.118181  8.993333   \n",
      "4  2011-01-01          0       23.5         5.35   1.118181  8.993333   \n",
      "5  2011-01-01          0       23.5         5.35   1.118181  8.993333   \n",
      "6  2011-01-01          0       23.5         5.35   1.118181  8.993333   \n",
      "7  2011-01-01          0       23.5         5.35   1.118181  8.993333   \n",
      "8  2011-01-01          0       23.5         5.35   1.118181  8.993333   \n",
      "9  2011-01-01          0       23.5         5.35   1.118181  8.993333   \n",
      "\n",
      "   Visibility  Longitude  Latitude  \n",
      "0         400  -79.58710  43.74429  \n",
      "1         400  -79.55782  43.71294  \n",
      "2         400  -79.56319  43.64803  \n",
      "3         400  -79.53013  43.67634  \n",
      "4         400  -79.51154  43.64677  \n",
      "5         400  -79.49727  43.61612  \n",
      "6         400  -79.51707  43.74433  \n",
      "7         400  -79.50082  43.75932  \n",
      "8         400  -79.48586  43.72815  \n",
      "9         400  -79.44221  43.75037  \n"
     ]
    }
   ],
   "source": [
    "## only look at temporal data from toronto dataset, ignore spatial features to simplify computation (assume all houses are the same house category)\n",
    "data = pd.read_csv('/Users/emma/Desktop/stat195/fire_data.csv')\n",
    "\n",
    "## only keep 'Date', 'FireCount', 'WindSpeed', 'Temperature', 'WindChill', 'Sunshine', 'Visibility', 'Longitude', 'Latitude'\n",
    "## include spatial variables as needed\n",
    "data = data[['Date', 'FireCount', 'WindSpeed', 'Temperature', 'WindChill', 'Sunshine', 'Visibility', 'Longitude', 'Latitude']]   \n",
    "print(data.columns)\n",
    "print(data['Date'].max())\n",
    "print(data['Date'].min())   \n",
    "print(data.head(10))\n"
   ]
  },
  {
   "cell_type": "markdown",
   "metadata": {},
   "source": [
    "### Fit $\\phi$ on given set of data"
   ]
  },
  {
   "cell_type": "markdown",
   "metadata": {},
   "source": [
    "Define dummy point process generation"
   ]
  },
  {
   "cell_type": "code",
   "execution_count": null,
   "metadata": {},
   "outputs": [
    {
     "name": "stdout",
     "output_type": "stream",
     "text": [
      "3103\n",
      "dummy point: 130.91678552375424\n",
      "dummy point: 173.56789550053057\n",
      "dummy point: 256.9790587259728\n",
      "dummy point: 293.82143916123675\n",
      "dummy point: 376.5334959187116\n",
      "dummy point: 428.81362741952745\n",
      "dummy point: 526.0955827785173\n",
      "dummy point: 640.8244235959428\n",
      "dummy point: 644.5808975166732\n",
      "dummy point: 692.9776364593241\n",
      "dummy point: 771.8457988932005\n",
      "dummy point: 772.55014883244\n",
      "dummy point: 793.7771234708987\n",
      "dummy point: 846.075793852008\n",
      "dummy point: 863.3363595170181\n",
      "dummy point: 877.7012084690244\n",
      "dummy point: 887.1570135968923\n",
      "dummy point: 954.7706736048785\n",
      "dummy point: 995.4796401778042\n",
      "dummy point: 1012.63457135926\n",
      "dummy point: 1138.175107607291\n",
      "dummy point: 1163.1261327696943\n",
      "dummy point: 1185.2456385568219\n",
      "dummy point: 1213.581844499238\n",
      "dummy point: 1222.5613620535435\n",
      "dummy point: 1322.5882078754985\n",
      "dummy point: 1328.668449201668\n",
      "dummy point: 1336.528732918402\n",
      "dummy point: 1337.597178612109\n",
      "dummy point: 1373.336181944049\n",
      "dummy point: 1381.124802022897\n",
      "dummy point: 1437.1792940243536\n",
      "dummy point: 1529.314913057075\n",
      "dummy point: 1532.4873163312243\n",
      "dummy point: 1550.0255086756033\n",
      "dummy point: 1575.0055051447255\n",
      "dummy point: 1578.1164151099747\n",
      "dummy point: 1618.629807807154\n",
      "dummy point: 1622.8440053613742\n",
      "dummy point: 1673.8794561075586\n",
      "dummy point: 1725.4872992540618\n",
      "dummy point: 1805.5530251173816\n",
      "dummy point: 1821.936499232831\n",
      "dummy point: 2028.0601496024299\n",
      "dummy point: 2038.6973482732192\n",
      "dummy point: 2042.1256654297474\n",
      "dummy point: 2074.9039503502004\n",
      "dummy point: 2108.284287168833\n",
      "dummy point: 2178.893878796171\n",
      "dummy point: 2183.3354719794334\n",
      "dummy point: 2191.769912706661\n",
      "dummy point: 2215.0558518314974\n",
      "dummy point: 2215.264163881645\n",
      "dummy point: 2363.081337768266\n",
      "dummy point: 2376.5838122658597\n",
      "dummy point: 2405.0671703657185\n",
      "dummy point: 2408.963531533214\n",
      "dummy point: 2432.213759256268\n",
      "dummy point: 2498.6810685911555\n",
      "dummy point: 2552.158429036876\n",
      "dummy point: 2553.0956690489443\n",
      "dummy point: 2569.9786465289394\n",
      "dummy point: 2756.800656873322\n",
      "dummy point: 2764.381729683491\n",
      "dummy point: 2796.540088301553\n",
      "dummy point: 2824.704102798561\n",
      "dummy point: 2836.9693938127925\n",
      "dummy point: 2896.547602117344\n",
      "dummy point: 2954.1013689799984\n",
      "dummy point: 3049.7967992441754\n",
      "dummy point: 3094.089888118943\n",
      "dummy point: 3133.8730265941094\n"
     ]
    },
    {
     "data": {
      "text/plain": [
       "Text(0.5, 1.0, 'Simulated Dummy Points (Temporal only)')"
      ]
     },
     "execution_count": 18,
     "metadata": {},
     "output_type": "execute_result"
    },
    {
     "data": {
      "image/png": "[encoded data removed]",
      "text/plain": [
       "<Figure size 640x480 with 1 Axes>"
      ]
     },
     "metadata": {},
     "output_type": "display_data"
    }
   ],
   "source": [
    "## generate dummy point process data, adapted from https://hpaulkeeler.com/poisson-point-process-simulation/ and https://nbviewer.org/github/MatthewDaws/PointProcesses/blob/master/Temporal%20points%20processes.ipynb\n",
    "# Define simulation window parameters if considering spatial data\n",
    "# xMin = min(data['Latitude'])\n",
    "# xMax = max(data['Latitude'])\n",
    "# yMin = min(data['Longitude'])\n",
    "# yMax = max(data['Longitude']) \n",
    "# xDelta = xMax-xMin\n",
    "# yDelta = yMax-yMin\n",
    "# areaTotal =xDelta*yDelta\n",
    "\n",
    "# define time window parameters\n",
    "tMin = min(data['Date'])\n",
    "tMax = max(data['Date'])\n",
    "tMin = pd.to_datetime(tMin)\n",
    "tMax = pd.to_datetime(tMax)\n",
    "# get total number of days between tMin and tMax\n",
    "tDelta = (tMax - tMin).days\n",
    "\n",
    "\n",
    "## ignore house category (otherwise define different intensity functions for different house categories)\n",
    "def dummy_intensity(t):\n",
    "    mult_factor = 60 ## adjust mult_factor so that it is at least 4x temporal risk (need to tune this parameter!)\n",
    "    ## house_density = ## ADD if needed\n",
    "    return (mult_factor * (0.5 + 0.25 * (np.sin(2*np.pi*t/365 + 0.5 * np.pi) + 1)))\n",
    "\n",
    "\n",
    "def get_dummy(window):\n",
    "    t = 0\n",
    "    points = []\n",
    "    while t < window:\n",
    "        m = dummy_intensity(t)\n",
    "        s = np.random.exponential(scale = m)\n",
    "        points.append(t + s)\n",
    "        print(\"dummy point: \"+ str(t + s))\n",
    "        t = t + s\n",
    "    return points\n",
    "\n",
    "print(tDelta)\n",
    "dummy_points = get_dummy(tDelta)\n",
    "plt.eventplot(dummy_points, orientation='horizontal', colors='b')\n",
    "plt.xlabel('Time: days past '+ str(tMin))\n",
    "plt.title('Simulated Dummy Points (Temporal only)')"
   ]
  },
  {
   "cell_type": "code",
   "execution_count": 57,
   "metadata": {},
   "outputs": [],
   "source": [
    "## add extra column to data to store days past tMin\n",
    "data['Days'] = 0\n",
    "data['Date'] = pd.to_datetime(data['Date'])\n",
    "data['Days'] = (data['Date'] - tMin).dt.days"
   ]
  },
  {
   "cell_type": "code",
   "execution_count": 58,
   "metadata": {},
   "outputs": [],
   "source": [
    "## split data into train and test, use 2019 as test data\n",
    "train_data = data[data['Date'] < '2019-01-01']\n",
    "test_data = data[data['Date'] >= '2019-01-01']"
   ]
  },
  {
   "cell_type": "markdown",
   "metadata": {},
   "source": [
    "Estimate model parameters $\\theta_k$ (again here ignoring house categories)\n",
    "\n",
    "Note: I couldn't figure out an efficient way to implement the exact method for fitting model parameters as outlined by Lu et al. (They recommend some packages in R that I couldn't find in python). I wrote a rough version where I assume the function orders are given (can change this manually by modifying the coeffs vector). Even my rough version here takes extremely long to run, takes 30 seconds to compute one instance of the likelihood :("
   ]
  },
  {
   "cell_type": "code",
   "execution_count": null,
   "metadata": {},
   "outputs": [],
   "source": [
    "def get_visibility(t):\n",
    "    return data.loc[data['Days'] == t, 'Visibility'].values[0]\n",
    "\n",
    "def get_windchill(t):\n",
    "    return data.loc[data['Days'] == t, 'WindChill'].values[0]"
   ]
  },
  {
   "cell_type": "code",
   "execution_count": null,
   "metadata": {},
   "outputs": [],
   "source": [
    "def get_intensity(t, thetas):\n",
    "    ts = np.pi * t/365\n",
    "    vis = get_visibility(t)\n",
    "    windchill = get_windchill(t)\n",
    "    coeffs = [1, np.cos(2*ts), np.sin(2*ts), np.cos(4*ts), np.sin(4*ts), np.cos(6*ts), np.sin(6*ts), np.cos(8*ts), np.sin(8*ts), vis, windchill, windchill ** 2]\n",
    "    # return log of intensity\n",
    "    return np.dot(coeffs, thetas)"
   ]
  },
  {
   "cell_type": "code",
   "execution_count": 46,
   "metadata": {},
   "outputs": [
    {
     "name": "stdout",
     "output_type": "stream",
     "text": [
      "Compute neg log likelihood for random thetas:\n",
      "-1463013579.8189843\n"
     ]
    }
   ],
   "source": [
    "## optimize thetas using train_data\n",
    "\n",
    "# neg log likelihood for intensity \n",
    "def intensity_likelihood(given_data, thetas):\n",
    "    t = train_data[given_data['Days'] > 0]['Days']\n",
    "    lambdas = [get_intensity(i, thetas) for i in t]\n",
    "    return (- np.sum(lambdas))\n",
    "\n",
    "## find thetas that minimize neg log likelihood\n",
    "from scipy.optimize import minimize\n",
    "thetas = np.random.rand(12)\n",
    "print(\"Compute neg log likelihood for random thetas:\")\n",
    "print(intensity_likelihood(train_data, thetas))"
   ]
  },
  {
   "cell_type": "code",
   "execution_count": null,
   "metadata": {},
   "outputs": [],
   "source": [
    "## this will take forever :(\n",
    "def fit_intensity(given_data):\n",
    "    ## add dummy points to train_data \n",
    "    def intensity_likelihood1(given_data, thetas):\n",
    "    t = train_data[given_data['Days'] > 0]['Days']\n",
    "    lambdas = [get_intensity(i, thetas) for i in t]\n",
    "    return (- np.sum(lambdas))\n",
    "    ## minimize neg_log_likelihood\n",
    "    result = minimize(intensity_likelihood1, thetas, method='Nelder-Mead', options={'maxiter': 5000})\n",
    "    fitted_thetas = result.x\n",
    "    print(\"Optimized theta parameters: \", fitted_thetas)"
   ]
  },
  {
   "cell_type": "markdown",
   "metadata": {},
   "source": [
    "Estimate likelihood ratio $w(X_i) = \\frac{d\\tilde{P}_X(X_i)}{dP_X (X_i)}$. "
   ]
  },
  {
   "cell_type": "code",
   "execution_count": 48,
   "metadata": {},
   "outputs": [],
   "source": [
    "from sklearn.linear_model import LogisticRegression"
   ]
  },
  {
   "cell_type": "code",
   "execution_count": 66,
   "metadata": {},
   "outputs": [],
   "source": [
    "## take as inputs sets of with the date labels removed\n",
    "def get_likelihood(set1, set2, x_new):\n",
    "    ## label points in set1 as 1, points in set2 as 0\n",
    "    set1['label'] = 1\n",
    "    set2['label'] = 0\n",
    "    all_data = pd.concat([set1, set2])\n",
    "    ## adjust features as needed\n",
    "    X = all_data[['WindSpeed', 'Temperature', 'WindChill', 'Sunshine', 'Visibility']]\n",
    "    y = all_data['label']\n",
    "    # Instantiate the model\n",
    "    classifier = LogisticRegression(max_iter=500)\n",
    "\n",
    "    # Train the model\n",
    "    classifier.fit(X, y)\n",
    "\n",
    "    prediction = classifier.predict_proba(x_new)\n",
    "    print(prediction)\n",
    "    return (prediction / (1 - prediction))\n"
   ]
  },
  {
   "cell_type": "code",
   "execution_count": null,
   "metadata": {},
   "outputs": [],
   "source": [
    "## sample random day from test_data\n",
    "sample_day = test_data.sample(1)\n",
    "sample_day = sample_day[['WindSpeed', 'Temperature', 'WindChill', 'Sunshine', 'Visibility']]\n",
    "print(sample_day)\n",
    "sample_day_w = get_likelihood(train_data, test_data, sample_day)\n",
    "print(sample_day_w)"
   ]
  },
  {
   "cell_type": "markdown",
   "metadata": {},
   "source": [
    "Compute non-conformity score"
   ]
  },
  {
   "cell_type": "code",
   "execution_count": 47,
   "metadata": {},
   "outputs": [],
   "source": [
    "## select a random day from test_data\n",
    "test_point = test_data.sample(1)\n",
    "\n",
    "## non-conformity score to find range of intensity values for test day \n",
    "def get_nc_score(test_day, y, training_set):\n",
    "    ## fit theta from training set\n",
    "    fitted_thetas = fit_intensity(training_set)\n",
    "    ## get intensity of test_day\n",
    "    intensity = get_intensity(test_day['Days'], thetas)\n",
    "    return np.abs(y - intensity)"
   ]
  }
 ],
 "metadata": {
  "kernelspec": {
   "display_name": "base",
   "language": "python",
   "name": "python3"
  },
  "language_info": {
   "codemirror_mode": {
    "name": "ipython",
    "version": 3
   },
   "file_extension": ".py",
   "mimetype": "text/x-python",
   "name": "python",
   "nbconvert_exporter": "python",
   "pygments_lexer": "ipython3",
   "version": "3.9.10"
  }
 },
 "nbformat": 4,
 "nbformat_minor": 2
}
